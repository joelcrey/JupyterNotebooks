{
 "cells": [
  {
   "cell_type": "markdown",
   "metadata": {},
   "source": [
    "# The Hilbert–Kunz multiplicity of the quadric hypersurfaces\n",
    "This notebook intends to illustrate Yoshida's observations in [Yos09]. L"
   ]
  },
  {
   "cell_type": "code",
   "execution_count": 74,
   "metadata": {},
   "outputs": [],
   "source": [
    "def lam(p,k):\n",
    "    a = (p-1)/2\n",
    "    if k>p-1:\n",
    "        return 'The first argument needs to be a prime and the second must be strictly lesser.'\n",
    "    l = []\n",
    "    for i in range(p):\n",
    "        for j in range(p):\n",
    "            if j>=i and i+j<=p-1:\n",
    "                i0 = i\n",
    "                j0 = j\n",
    "                x = lambda k: 1 if j0-i0<=k<=i0+j0 else 0\n",
    "                lij = vector([x(k) for k in range(p)])\n",
    "                l.append(lij)\n",
    "            elif j-i >= 0:\n",
    "                i0 = p-1-j\n",
    "                j0 = p-1-i\n",
    "                x = lambda k: 1 if j0-i0<=k<=i0+j0 else 0\n",
    "                lij = vector([x(k) for k in range(p)])\n",
    "                l.append(lij)\n",
    "            else:\n",
    "                j0 = i\n",
    "                i0 = j\n",
    "                if i0+j0<=p-1:\n",
    "                    x = lambda k: 1 if j0-i0<=k<=i0+j0 else 0\n",
    "                    lij = vector([x(k) for k in range(p)])\n",
    "                    l.append(lij)\n",
    "                else:\n",
    "                    i1 = p-1-j0\n",
    "                    j1 = p-1-i0\n",
    "                    x = lambda k: 1 if j1-i1<=k<=i1+j1 else 0\n",
    "                    lij = vector([x(k) for k in range(p)])\n",
    "                    l.append(lij)\n",
    "    l = [matrix([l[i+p*k] for i in range(p)]).transpose() for k in range(p)]\n",
    "    return l[k]\n",
    "def Na(p):\n",
    "    a = (p-1)/2\n",
    "    return 2*sum((-1)^k*lam(p,k) for k in range(a))+(-1)^a*lam(p,a)\n",
    "def Nb(p): #This is the matrix representing k[x]/x^b with T=x^3 over the lam-basis, where b=floor(p/3)\n",
    "    b = (p-p%3)/3\n",
    "    print(b,p%3)\n",
    "    return 3*sum((-1)^k*lam(p,k) for k in range(b)) + (p%3)*(-1)^b*lam(p,b)\n",
    "def HK1(p,d,matrix = False):\n",
    "    if p==2:\n",
    "        raise ValueError(\"First argument has to be an odd prime number.\")\n",
    "    a = (p-1)/2\n",
    "    N = Na(p)\n",
    "    if matrix:\n",
    "        return N^(d+1)\n",
    "    return (N^(d+1))[0,0]\n",
    "def lsharp(p,d,matrix = False):\n",
    "    a = (p-1)/2\n",
    "    M = lam(p,a)\n",
    "    if matrix:\n",
    "        return M^(d+1)\n",
    "    return (M^(d+1))[0,0]\n",
    "def eHKA1(p,d):\n",
    "    if p == 2: # Characteristic 2\n",
    "        if d%2==0: # Even dimension\n",
    "            m = d/2\n",
    "            return (2^m+1)/2^m\n",
    "        else: # Odd dimension\n",
    "            m = (d+1)/2\n",
    "            return 2^m/(2^m-1)\n",
    "    else: # Odd characteristic:\n",
    "        return 1+(HK1(p,d)-p^d)/(p^d-lsharp(p,d))\n"
   ]
  },
  {
   "cell_type": "code",
   "execution_count": 75,
   "metadata": {},
   "outputs": [
    {
     "data": {
      "image/png": "[encoded data removed]",
      "text/plain": [
       "Graphics object consisting of 2 graphics primitives"
      ]
     },
     "metadata": {},
     "output_type": "display_data"
    }
   ],
   "source": [
    "d0 = 4\n",
    "dmax = d0+1\n",
    "p0 = 1 #p0 = 0 hace que aparezca el valor en caracteristica 2\n",
    "pmax = 10\n",
    "eHKs = [[(2*m+1,eHKA1(2*m+1,d)) for m in range(1,pmax)] for d in range(d0,dmax)]\n",
    "colors = ['red','orange','yellow','green','blue','purple','pink','brown']\n",
    "R.<x>=PowerSeriesRing(QQ,'x')\n",
    "lowerbounds = [1+(1/cos(x)+tan(x))[k] for k in range(d0,dmax)]\n",
    "(sum(points(eHKs[r],color = colors[r])+plot(lowerbounds[r],(x,0,2*pmax),color = colors[r]) for r in range(dmax-d0))).show()"
   ]
  },
  {
   "cell_type": "code",
   "execution_count": null,
   "metadata": {},
   "outputs": [],
   "source": []
  }
 ],
 "metadata": {
  "kernelspec": {
   "display_name": "SageMath 9.8",
   "language": "sage",
   "name": "SageMath-9.8"
  },
  "language_info": {
   "codemirror_mode": {
    "name": "ipython",
    "version": 3
   },
   "file_extension": ".py",
   "mimetype": "text/x-python",
   "name": "python",
   "nbconvert_exporter": "python",
   "pygments_lexer": "ipython3",
   "version": "3.11.1"
  }
 },
 "nbformat": 4,
 "nbformat_minor": 2
}
