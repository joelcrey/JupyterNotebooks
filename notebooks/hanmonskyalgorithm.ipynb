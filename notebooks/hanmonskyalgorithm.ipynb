{
 "cells": [
  {
   "cell_type": "markdown",
   "metadata": {},
   "source": [
    "# The Han–Monsky algorithm\n",
    "The following cell executes the Han–Monsky algorithm on any given collection of exponents.\n",
    "\n",
    "TODO:\n",
    "- Conditions on the exponents to understand whether HM algorithm will be able to compute it in reasonable time or not.\n",
    "- Clean code\n",
    "- Decide if matrices are necessary to compute the values of HK or just lsh. It seems like they are only needed to compute lsh.\n",
    "    - Actually, I am not sure that non-matrices is better: for the 4 dimensional A_10 singularity, mu = 5, and the program takes a lot of time, but not because of computing lsh, which does fast, but because of the computation of the values of the Hilbert–Kunz multiplicity. So that is important to take into account."
   ]
  },
  {
   "cell_type": "code",
   "execution_count": 282,
   "metadata": {
    "vscode": {
     "languageId": "python"
    }
   },
   "outputs": [
    {
     "name": "stdout",
     "output_type": "stream",
     "text": [
      "Original beta: (1/2, 1/2, 1/2, 1/9)\n",
      "data and new beta: mu is 3 e0 is 0 and the new beta is (1/2, 1/2, 1/2, 1/9)\n",
      "sum(r) is odd: False because sum(r) is 0\n",
      "l_sharp is: 15\n",
      "The result is given by the solution of the easy linear system of equations: [1 == x - y, 2913705 == 1953125*x - 15*y]\n"
     ]
    },
    {
     "data": {
      "text/plain": [
       "'HK_(3*e)=96058/195311*15^e + 291369/195311*5^(9*e) for e>=0'"
      ]
     },
     "execution_count": 282,
     "metadata": {},
     "output_type": "execute_result"
    }
   ],
   "source": [
    "def lam(p,k):\n",
    "    a = (p-1)/2\n",
    "    if p%2 == 0 or k>p-1:\n",
    "        return 'The first argument needs to be odd and the second must be strictly smaller.'\n",
    "    l = []\n",
    "    for i in range(p):\n",
    "        for j in range(p):\n",
    "            if j>=i and i+j<=p-1:\n",
    "                i0 = i\n",
    "                j0 = j\n",
    "                x = lambda k: 1 if j0-i0<=k<=i0+j0 else 0\n",
    "                lij = [x(k) for k in range(p)]\n",
    "                l.append(lij)\n",
    "            elif j-i >= 0:\n",
    "                i0 = p-1-j\n",
    "                j0 = p-1-i\n",
    "                x = lambda k: 1 if j0-i0<=k<=i0+j0 else 0\n",
    "                lij = [x(k) for k in range(p)]\n",
    "                l.append(lij)\n",
    "            else:\n",
    "                j0 = i\n",
    "                i0 = j\n",
    "                if i0+j0<=p-1:\n",
    "                    x = lambda k: 1 if j0-i0<=k<=i0+j0 else 0\n",
    "                    lij = [x(k) for k in range(p)]\n",
    "                    l.append(lij)\n",
    "                else:\n",
    "                    i1 = p-1-j0\n",
    "                    j1 = p-1-i0\n",
    "                    x = lambda k: 1 if j1-i1<=k<=i1+j1 else 0\n",
    "                    lij = [x(k) for k in range(p)]\n",
    "                    l.append(lij)\n",
    "    l = [matrix([l[i+p*k] for i in range(p)]).transpose() for k in range(p)]\n",
    "    return l[k]\n",
    "\n",
    "\n",
    "def theta(p,M0):\n",
    "    '''\n",
    "    This function takes lambda_k in Lambda_n (as the matrix M0) and outputs the matrix of theta(lambda_k)\n",
    "    in Lambda_n+1.\n",
    "    '''\n",
    "    n = int(log(M0.nrows())/log(p))\n",
    "    error = 0\n",
    "    k = list(M0[0]).index(1) #This is to detect which lambda the matrix M0 is representing. But this is easy.\n",
    "    # It is just the location of the 1 in the first row/column. That's what this line does.\n",
    "    # This is important to check parity on the next line:\n",
    "    if k%2!=0: error = 1 # This is for parity.\n",
    "    M = zero_matrix(p**(n+1),p**(n+1)) # I wouldn't say that these matrices are sparse...\n",
    "    for a in range(p):\n",
    "        for i in range(p**n): # We first give the values at elements lambda_ip\n",
    "            for j in range(p**n):\n",
    "                # lambda_kp lambda_ip = lambda_error_k * lambda_error_i * theta(lambda_k * lambda_i) =\n",
    "                # = lambda_error_k * lambda_error_i * sum theta(lambda_j) \n",
    "                # = lambda_error_k * lambda_error_i * sum lambda_(pj+error_j)\n",
    "                if i%2 == 0:\n",
    "                    if j%2 == 0:\n",
    "                        M[p*j+error*(p-1)+(-1)**error*a,p*i+a] = M0[j,i]\n",
    "                    else:\n",
    "                        M[p*j+p-1-error*(p-1)+(-1)**(1-error)*a,p*i+a] = M0[j,i]\n",
    "                else:\n",
    "                    # i is odd now...\n",
    "                    if j%2 == 0:\n",
    "                        M[p*j+p-1-error*(p-1)+(-1)**(1-error)*a,p*i+a] = M0[j,i]\n",
    "                    else:\n",
    "                        M[p*j+error*(p-1)+(-1)**error*a,p*i+a] = M0[j,i]\n",
    "    return M\n",
    "\n",
    "def scaler(p,M0):\n",
    "    # This function takes the matrix of lambda_k in Lambda_n and gives you the matrix of lambda_k in Lambda_n+1\n",
    "    return identity_matrix(p).tensor_product(M0)\n",
    "\n",
    "def p_adic(p,n,k): # digits in base p as list [a_0,a_1,...] for a_0+a_1p+...\n",
    "    k_p = []\n",
    "    while k > 0:\n",
    "        k_p.append(k%p)\n",
    "        k = k//p\n",
    "    if n>len(k_p):\n",
    "        k_p = k_p + [0 for _ in range(n-len(k_p))]\n",
    "    return k_p\n",
    "# I need to check the error adjusments like p-1-error*(p-1)+(-1)**(1-error)*a. But it seems experimentally fine\n",
    "#print((theta(p,theta(p,lam(p,k)))*scaler(3,scaler(3,lam(p,k)))).str(),'\\n',scaler(3,scaler(3,lam(p,k))).str())\n",
    "\n",
    "def lambda_matrix(p,n,k):\n",
    "    if k>=p**n:\n",
    "        return 'lambda_'+str(k)+'is not in Lambda_'+str(n)\n",
    "    p_ad = p_adic(p,n,k)\n",
    "    M = identity_matrix(p**n)\n",
    "    for i in range(n): #len(p_ad) should be n!!\n",
    "        Mi = lam(p,p_ad[i])\n",
    "        for _ in range(i):\n",
    "            Mi = theta(p,Mi)\n",
    "        for _ in range(n-i-1):\n",
    "            Mi = scaler(p,Mi)\n",
    "        M = M*Mi\n",
    "    return M\n",
    "\n",
    "def vertical_swap(M):\n",
    "    a = M.nrows()\n",
    "    return matrix([[M[a-j-1,i] for i in range(a)] for j in range(a)])\n",
    "\n",
    "def N_a(p,n):\n",
    "    a = int((p**n-1)/2)\n",
    "    return sum((-1)**k*2*lambda_matrix(p,n,k) for k in range(a))+(-1)**a*lambda_matrix(p,n,a)\n",
    "def N_a_faster(p,n):\n",
    "    '''\n",
    "    I already know that this has a formula, so I should do a function that builds the matrix\n",
    "    directly, and not from definition!\n",
    "    '''\n",
    "    return\n",
    "\n",
    "def find_mu_e0(p,exps,vrbs = False):\n",
    "    import itertools\n",
    "    '''\n",
    "    The Han–Monsky's algorithm takes the exponents of a diagonal hypersurface, the characteristic,\n",
    "    and a certain mu. First, it modifies beta so that the denominators are not divisible by it.\n",
    "    Then, you can start looking for mu. If the correct mu is chosen, then the algorithm yields \n",
    "    an expression for the Hilbert–Kunz function of the diagonal hypersurface that works for every \n",
    "    e≥e_0 for a certain e_0.\n",
    "    \n",
    "    If the hypersurface is an A_n singularity, it can be seen that n+1 = c*p**e0 where gcd(c,p) = 1.\n",
    "    \n",
    "    This function computes the least mu such that p**mu = ± 1 (mod c). (see [HM93], Theorem 5.2)\n",
    "\n",
    "    In any case, this algorithm below is really about trying one by one the values.\n",
    "\n",
    "    There is an upper bound (max_mu below), and my guess is that all the mu's conputed by this program are divisors of that.\n",
    "    However, it does not feel that this part of the program is going to slow down things.\n",
    "    '''\n",
    "    beta = vector([1/x for x in exps])\n",
    "    # first, the function computes the minimal e0. this is the first obstruction to speed that the han-monsky algorithm has\n",
    "    e0 = 0\n",
    "    for x in exps:\n",
    "        while x % p^(e0+1) == 0:\n",
    "            e0 += 1\n",
    "    newbeta = p^e0*beta\n",
    "    fracs = [(numerator(x),denominator(x)) for x in newbeta]\n",
    "    r = vector([int(x) for x in newbeta])\n",
    "    # now, the function finds the minimal mu to use han-monsky algorithm. this uses the remark in section 5: tries the mu one by\n",
    "    # one, checking whether z_prime, which is a vector that depends on mu, is equivalent to z or z_star\n",
    "    mu = 1\n",
    "    max_mu = lcm([euler_phi(x[1]) for x in fracs])\n",
    "    if vrbs: print('Maximum mu:',max_mu)\n",
    "    # the goal now is find the smallest mu such that z' (which depends on z') is in the class of z or the class of z*\n",
    "    units = list(itertools.product([1,-1],repeat=len(exps)))\n",
    "    class_z = [[u[i]*fracs[i][0]%fracs[i][1] for i in range(len(exps))] for u in units if prod(u)==1]\n",
    "    class_z_star = [[u[i]*fracs[i][0]%fracs[i][1] for i in range(len(exps))] for u in units if prod(u)==-1]\n",
    "    z_prime = [p^mu*x[0]%x[1] for x in fracs]\n",
    "    R = [int(x) for x in p^mu*newbeta]\n",
    "    # print(class_z,class_z_star,z_prime)\n",
    "    z_sim_z_prime = bool(z_prime in class_z)\n",
    "    z_star_sim_z_prime = bool(z_prime in class_z_star)\n",
    "    condition = bool(sum(R) % 2 == sum(r) % 2)\n",
    "    while not (z_sim_z_prime and condition) and not (z_star_sim_z_prime and not condition) and mu<max_mu:\n",
    "        mu +=1\n",
    "        z_prime = [p^mu*x[0]%x[1] for x in fracs]\n",
    "        R = [int(x) for x in p^mu*newbeta]\n",
    "        z_sim_z_prime = bool(z_prime in class_z)\n",
    "        z_star_sim_z_prime = bool(z_prime in class_z_star)\n",
    "        condition = bool(sum(R) % 2 == sum(r) % 2)\n",
    "        if vrbs: print('z_prime is',z_prime,'for',mu,'and z~z_prime is',z_sim_z_prime,'; z_star~z_prime is',z_star_sim_z_prime,'; condition is',condition,'and sumR',sum(R))\n",
    "        if mu == max_mu+1: # This part is just to check that the function does not make a silly mistake I did not catch\n",
    "            print('fail')\n",
    "    if vrbs: print('sum(R_i) has the same parity as sum(r_i)',condition,'\\nz is equiv to z_prime:',z_sim_z_prime,'\\nz_star is equiv to z_prime:',z_star_sim_z_prime)\n",
    "    # we did not finish though, because we need that z ~ z' if sum(R_i) has the parity of sum(r_i), and z* ~ z' otherwise.\n",
    "    # observe that if boo_plus is True, then z  ~ z', so we would need the first case.\n",
    "    return mu,e0,newbeta\n",
    "    \n",
    "def eHK_diagonal_brute(p,exps,vrbs = False,HK_function=False):\n",
    "    '''\n",
    "    This program computes the Hilbert–Kunz multiplicity of a diagonal hypersurface via the Han–Monsky algorithm.\n",
    "\n",
    "    It needs to compute three numbers in order to compute it: two specific values of the HK function, and the number lsh.\n",
    "    The number lsh has to be computed using matrices (or a recursive formula given by Han and Monsky, but we use matrices),\n",
    "    and the two values of HK function that are needed are here computed by brute force. They can be computed via matrices,\n",
    "    but there does not seem to be any advantage to that, given that the matrices get very big very quickly.\n",
    "\n",
    "    When the HK_function option is turned on, the function returns the formula for the HK function of the singularity,\n",
    "    but maybe not the complete function. If mu = 1, then the function works for every e, but if mu is more than one,\n",
    "    then one has to compute several functions, one for each value smaller than mu. Thus, the function only gives one set\n",
    "    of these values, which is expressed as, for example: HK_(3e) = ... because the identity for HK_e only works for multiples\n",
    "    of 3. So, be careful with this. However, it is not very difficult to modify the function to compute the rest of the parts,\n",
    "    if you are really interested in that.\n",
    "    '''\n",
    "    if vrbs: print('Original beta:',vector([1/e for e in exps]))\n",
    "    mu,e0,beta = find_mu_e0(p,exps)\n",
    "    if vrbs: print('data and new beta:','mu is',mu,'e0 is',e0,'and the new beta is',beta)\n",
    "    dim = len(exps)-1\n",
    "    r = vector([floor(x) for x in beta])\n",
    "    z = beta - r\n",
    "    t = vector([floor(x) for x in p**mu*z])\n",
    "    z_prime = p**mu*z - t\n",
    "    if vrbs: print('sum(r) is odd:',sum(r) % 2 != 0,'because sum(r) is',sum(r))\n",
    "    if sum(r) % 2 != 0:\n",
    "        t[0] = p^mu-1-t[0]\n",
    "    # we have to produce l#, and that REQUIRES MATRICES ANYWAY\n",
    "    lsh = (prod(lambda_matrix(p,mu,ti) for ti in t))[0,0]\n",
    "    if vrbs: print('l_sharp is:',lsh)\n",
    "    vars = var(['x%d'%i for i in range(len(exps))])\n",
    "    R = PolynomialRing(GF(p),vars)\n",
    "    Ie0 = R.ideal([sum(var('x%d'%i)^exps[i] for i in range(len(exps)))]+[var('x%d'%i)^(p^e0) for i in range(len(exps))])\n",
    "    Ie0mu = R.ideal([sum(var('x%d'%i)^exps[i] for i in range(len(exps)))]+[var('x%d'%i)^(p^(e0+mu)) for i in range(len(exps))])\n",
    "    HKe0 = Ie0.vector_space_dimension()\n",
    "    HKe0mu = Ie0mu.vector_space_dimension()\n",
    "    var('x y')\n",
    "    if vrbs: print('The result is given by the solution of the easy linear system of equations:',[HKe0 == x*p^(dim*e0)-y,HKe0mu == x*p^(dim*(e0+mu))-y*lsh])\n",
    "    if not HK_function:\n",
    "        return (HKe0mu-HKe0*lsh)/((p**(mu*dim)-lsh)*p**(e0*dim))\n",
    "    else:\n",
    "        eHK = (HKe0mu-HKe0*lsh)/((p**(mu*dim)-lsh)*p**(e0*dim))\n",
    "        var('p,e')\n",
    "        return 'HK_('+str(e*mu)+')='+str(eHK*p^(dim*(mu*e))+(eHK-1)*lsh^e)+' for e>='+str(e0)\n",
    "\n",
    "def eHK_diagonal_matrices(p,exps,vrbs = False):\n",
    "    '''\n",
    "    This program computes the correct HK_e's in order to finish Han–Monsky's algorithm via matrices.\n",
    "\n",
    "    WARNING: this program is not finished.\n",
    "    '''\n",
    "    mu,e0,beta = find_mu_e0(p,exps)\n",
    "    dim = len(exps)-1\n",
    "    r = vector([floor(x) for x in beta])\n",
    "    z = beta - r\n",
    "    t = vector([floor(x) for x in p**mu*z])\n",
    "    z_prime = p**mu*z - t\n",
    "    if sum(r) % 2 != 0:\n",
    "        t[0] = p^mu-1-t[0]\n",
    "    # we have to produce l#\n",
    "    lsh = (prod(lambda_matrix(p,mu,ti) for ti in t))[0,0]\n",
    "    # we have to produce the matrices to compute D_k\n",
    "    N_b = sum((-1)**k*c*lambda_matrix(p,mu+e0,k) for k in range(floor(p**mu/c)))+(-1)**(floor(p**mu/c))*(p**mu%c)*lambda_matrix(p,mu+e0,floor(p**mu/c))\n",
    "    HKe0 = p**e0*(N_a(p,e0)**dim)[0,0] # Ok\n",
    "    HKe0mu = p**e0*((N_a(p,e0+mu)**dim)*N_b)[0,0] #If mu is greater than 3, this is already too big for p≥7.\n",
    "    return (HKe0mu-HKe0*lsh)/((p**(mu*dim)-lsh)*p**(e0*dim))#,(HK1)/(p**((e0)*dim))\n",
    "d = 3\n",
    "eHK_diagonal_brute(5,[2]*(d)+[9],vrbs=True,HK_function=True)"
   ]
  },
  {
   "cell_type": "markdown",
   "metadata": {},
   "source": [
    "# On choosing $e_0$\n",
    "I concluded that choosing an $e_0$ is necessary even when the hypotheses of the theorems in section 5 of Han and Monsky's paper are relaxed to the remark. Take the example $\\beta = (\\frac{1}{12},\\frac{1}{7},\\frac{1}{8})$ and $p=3$. In this case, $z=\\beta$, and one can check that there are only $6$ possible values of $z'$ (by changing $\\mu$) and none of them give you $z \\sim z'$ or $z^* \\sim z'$. Thus, changing $\\beta$ by $p^{e_0}\\beta$ is necessary. And this can be proven that it is sufficient to take the maximum $e_0$ such that $p^{e_0}$ divides all the denominators in $\\beta$. Then, once you change $\\beta$ by $p^{e_0}\\beta$, you get something for which you can find a suitable $\\mu$. And $e_0$ cannot be chosen smaller, but you can take multiples of it, which Han and Monsky use to force the hypotheses. But I have to try to avoid it, since it increases computational weight.\n",
    "\n",
    "# On choosing $\\mu$."
   ]
  },
  {
   "cell_type": "code",
   "execution_count": 3,
   "metadata": {
    "vscode": {
     "languageId": "python"
    }
   },
   "outputs": [
    {
     "ename": "NameError",
     "evalue": "name 'class_z' is not defined",
     "output_type": "error",
     "traceback": [
      "\u001b[0;31m---------------------------------------------------------------------------\u001b[0m",
      "\u001b[0;31mNameError\u001b[0m                                 Traceback (most recent call last)",
      "Cell \u001b[0;32mIn [3], line 12\u001b[0m\n\u001b[1;32m      7\u001b[0m fracs \u001b[38;5;241m=\u001b[39m [(numerator(p\u001b[38;5;241m*\u001b[39m\u001b[38;5;241m*\u001b[39me0\u001b[38;5;241m/\u001b[39mx),denominator(p\u001b[38;5;241m*\u001b[39m\u001b[38;5;241m*\u001b[39me0\u001b[38;5;241m/\u001b[39mx)) \u001b[38;5;28;01mfor\u001b[39;00m x \u001b[38;5;129;01min\u001b[39;00m exps]\n\u001b[1;32m      8\u001b[0m \u001b[38;5;66;03m# mu = 1\u001b[39;00m\n\u001b[1;32m      9\u001b[0m \u001b[38;5;66;03m# while [x[0]%x[1] for x in fracs] !=[3^mu*x[0]%x[1] for x in fracs]:\u001b[39;00m\n\u001b[1;32m     10\u001b[0m \u001b[38;5;66;03m#     mu += 1\u001b[39;00m\n\u001b[0;32m---> 12\u001b[0m \u001b[43mclass_z\u001b[49m,class_z_star,mu,z_prime\n",
      "\u001b[0;31mNameError\u001b[0m: name 'class_z' is not defined"
     ]
    }
   ],
   "source": [
    "exps = [12,7,3]\n",
    "e0 = 0\n",
    "p = 3\n",
    "for x in exps:\n",
    "    while x % p^(e0+1) == 0:\n",
    "        e0 += 1\n",
    "fracs = [(numerator(p^e0/x),denominator(p^e0/x)) for x in exps]\n",
    "# mu = 1\n",
    "# while [x[0]%x[1] for x in fracs] !=[3^mu*x[0]%x[1] for x in fracs]:\n",
    "#     mu += 1\n",
    "\n",
    "class_z,class_z_star,mu,z_prime"
   ]
  },
  {
   "cell_type": "code",
   "execution_count": 4,
   "metadata": {
    "vscode": {
     "languageId": "python"
    }
   },
   "outputs": [
    {
     "data": {
      "text/plain": [
       "[[1, 3, 0],\n",
       " [3, 2, 0],\n",
       " [1, 6, 0],\n",
       " [3, 4, 0],\n",
       " [1, 5, 0],\n",
       " [3, 1, 0],\n",
       " [1, 3, 0],\n",
       " [3, 2, 0],\n",
       " [1, 6, 0],\n",
       " [3, 4, 0],\n",
       " [1, 5, 0],\n",
       " [3, 1, 0]]"
      ]
     },
     "execution_count": 4,
     "metadata": {},
     "output_type": "execute_result"
    }
   ],
   "source": [
    "[[p^muminus*x[0]%x[1] for x in fracs] for muminus in range(max(exps))]"
   ]
  },
  {
   "cell_type": "markdown",
   "metadata": {},
   "source": [
    "# Possible speeding up\n",
    "The code below, if experiment is True, searches for mu among divisors of mu_max, which is my hypothesis of what happens in general. I need to check this, because I am not sure yet. That seems like a good enough guess. Because checking one by one, the diagonal hypersurface $[63,67,71,53,89]$ would already take hours to find a mu. However, the mu seems to be very high, so I don't think it is worth it anyway."
   ]
  },
  {
   "cell_type": "code",
   "execution_count": 37,
   "metadata": {
    "vscode": {
     "languageId": "python"
    }
   },
   "outputs": [
    {
     "data": {
      "text/plain": [
       "(3, 0)"
      ]
     },
     "execution_count": 37,
     "metadata": {},
     "output_type": "execute_result"
    }
   ],
   "source": [
    "def find_mu_e0(p,exps,verbose=False,experiment=False):\n",
    "    import itertools\n",
    "    '''\n",
    "    The Han–Monsky's algorithm takes the exponents of a diagonal hypersurface, the characteristic,\n",
    "    and a certain mu. If the correct mu is chosen, then the algorithm yields an expression for the\n",
    "    Hilbert–Kunz function of the diagonal hypersurface that works for every e≥e_0 for a certain e_0.\n",
    "    \n",
    "    It can be seen that n+1 = c*p**e0 where gcd(c,p) = 1.\n",
    "    \n",
    "    This function computes the least mu such that p**mu = ± 1 (mod c). (see [HM93], Theorem 5.2)\n",
    "    '''\n",
    "    beta = vector([1/x for x in exps])\n",
    "    # first, the function computes the minimal e0. this is the first obstruction to speed that the han-monsky algorithm has\n",
    "    e0 = 0\n",
    "    for x in exps:\n",
    "        while x % p^(e0+1) == 0:\n",
    "            e0 += 1\n",
    "    newbeta = p^e0*beta\n",
    "    fracs = [(numerator(x),denominator(x)) for x in newbeta]\n",
    "    r = vector([int(x) for x in newbeta])\n",
    "    # now, the function finds the minimal mu to use han-monsky algorithm. this uses the remark in section 5: tries the mu one by\n",
    "    # one, checking whether z_prime, which is a vector that depends on mu, is equivalent to z or z_star\n",
    "    mu = 1\n",
    "    max_mu = lcm([euler_phi(x[1]) for x in fracs])\n",
    "    if verbose: print('Maximum mu:',max_mu)\n",
    "    # the goal now is find the smallest mu such that z' (which depends on z') is in the class of z or the class of z*\n",
    "    units = list(itertools.product([1,-1],repeat=len(exps)))\n",
    "    class_z = [[u[i]*fracs[i][0]%fracs[i][1] for i in range(len(exps))] for u in units if prod(u)==1]\n",
    "    class_z_star = [[u[i]*fracs[i][0]%fracs[i][1] for i in range(len(exps))] for u in units if prod(u)==-1]\n",
    "    z_prime = [p^mu*x[0]%x[1] for x in fracs]\n",
    "    R = [int(x) for x in p^mu*newbeta]\n",
    "    # print(class_z,class_z_star,z_prime)\n",
    "    z_sim_z_prime = bool(z_prime in class_z)\n",
    "    z_star_sim_z_prime = bool(z_prime in class_z_star)\n",
    "    condition = bool(sum(R) % 2 == sum(r) % 2)\n",
    "    if not experiment:\n",
    "        while not (z_sim_z_prime and condition) and not (z_star_sim_z_prime and not condition) and mu<max_mu:\n",
    "            mu +=1\n",
    "            z_prime = [p^mu*x[0]%x[1] for x in fracs]\n",
    "            R = [int(x) for x in p^mu*newbeta]\n",
    "            z_sim_z_prime = bool(z_prime in class_z)\n",
    "            z_star_sim_z_prime = bool(z_prime in class_z_star)\n",
    "            condition = bool(sum(R) % 2 == sum(r) % 2)\n",
    "            if verbose: print('z_prime is',z_prime,'for',mu,'and z~z_prime is',z_sim_z_prime,'; z_star~z_prime is',z_star_sim_z_prime,'; condition is',condition,'and sumR',sum(R))\n",
    "            if mu == max_mu+1: # This part is just to check that the function does not make a silly mistake I did not catch\n",
    "                print('fail')\n",
    "    else:\n",
    "        '''\n",
    "        This part of the function checks among divisors of max_mu, because I have the feeling that\n",
    "        the answer for the minimal mu is always among these divisors. I have reasons to argue this,\n",
    "        but I have not seriously thought about this. Does not seem too complicated, though.\n",
    "        '''\n",
    "        experimental_mu = iter(divisors(max_mu)) #THIS IS AN EXPERIMENT\n",
    "        print('Divisors of max_mu:',divisors(max_mu))\n",
    "        mu = next(experimental_mu)\n",
    "        while not (z_sim_z_prime and condition) and not (z_star_sim_z_prime and not condition) and mu<max_mu:\n",
    "            mu = next(experimental_mu)\n",
    "            z_prime = [p^mu*x[0]%x[1] for x in fracs]\n",
    "            R = [int(x) for x in p^mu*newbeta]\n",
    "            z_sim_z_prime = bool(z_prime in class_z)\n",
    "            z_star_sim_z_prime = bool(z_prime in class_z_star)\n",
    "            condition = bool(sum(R) % 2 == sum(r) % 2)\n",
    "            if verbose: print('z_prime is',z_prime,'for',mu,'and z~z_prime is',z_sim_z_prime,'; z_star~z_prime is',z_star_sim_z_prime,'; condition is',condition,'and sumR',sum(R))\n",
    "    if verbose: print('sum(R_i) has the same parity as sum(r_i)',condition,'\\nz is equiv to z_prime:',z_sim_z_prime,'\\nz_star is equiv to z_prime:',z_star_sim_z_prime)\n",
    "    # we did not finish though, because we need that z ~ z' if sum(R_i) has the parity of sum(r_i), and z* ~ z' otherwise.\n",
    "    # observe that if boo_plus is True, then z  ~ z', so we would need the first case.\n",
    "    return mu,e0\n",
    "p = 5\n",
    "exps = [2,2,2,7]\n",
    "find_mu_e0(p,exps,verbose=False)"
   ]
  },
  {
   "cell_type": "code",
   "execution_count": 293,
   "metadata": {
    "vscode": {
     "languageId": "python"
    }
   },
   "outputs": [],
   "source": [
    "m = iter(divisors(12))"
   ]
  },
  {
   "cell_type": "code",
   "execution_count": 300,
   "metadata": {
    "vscode": {
     "languageId": "python"
    }
   },
   "outputs": [
    {
     "ename": "StopIteration",
     "evalue": "",
     "output_type": "error",
     "traceback": [
      "\u001b[0;31m---------------------------------------------------------------------------\u001b[0m",
      "\u001b[0;31mStopIteration\u001b[0m                             Traceback (most recent call last)",
      "Cell \u001b[0;32mIn [300], line 1\u001b[0m\n\u001b[0;32m----> 1\u001b[0m \u001b[38;5;28;43mnext\u001b[39;49m\u001b[43m(\u001b[49m\u001b[43mm\u001b[49m\u001b[43m)\u001b[49m\n",
      "\u001b[0;31mStopIteration\u001b[0m: "
     ]
    }
   ],
   "source": [
    "next(m)"
   ]
  },
  {
   "cell_type": "code",
   "execution_count": 305,
   "metadata": {
    "vscode": {
     "languageId": "python"
    }
   },
   "outputs": [
    {
     "data": {
      "text/plain": [
       "1.0358724608724608"
      ]
     },
     "execution_count": 305,
     "metadata": {},
     "output_type": "execute_result"
    }
   ],
   "source": [
    "float(124429/120120)"
   ]
  },
  {
   "cell_type": "code",
   "execution_count": null,
   "metadata": {
    "vscode": {
     "languageId": "python"
    }
   },
   "outputs": [
    {
     "ename": "TypeError",
     "evalue": "int() argument must be a string, a bytes-like object or a real number, not 'sage.modules.vector_rational_dense.Vector_rational_dense'",
     "output_type": "error",
     "traceback": [
      "\u001b[0;31m---------------------------------------------------------------------------\u001b[0m",
      "\u001b[0;31mTypeError\u001b[0m                                 Traceback (most recent call last)",
      "Cell \u001b[0;32mIn [16], line 1\u001b[0m\n\u001b[0;32m----> 1\u001b[0m \u001b[38;5;28;43mint\u001b[39;49m\u001b[43m(\u001b[49m\u001b[43mvector\u001b[49m\u001b[43m(\u001b[49m\u001b[43m[\u001b[49m\u001b[43mInteger\u001b[49m\u001b[43m(\u001b[49m\u001b[38;5;241;43m1\u001b[39;49m\u001b[43m)\u001b[49m\u001b[38;5;241;43m/\u001b[39;49m\u001b[43mInteger\u001b[49m\u001b[43m(\u001b[49m\u001b[38;5;241;43m2\u001b[39;49m\u001b[43m)\u001b[49m\u001b[43m,\u001b[49m\u001b[43mInteger\u001b[49m\u001b[43m(\u001b[49m\u001b[38;5;241;43m1\u001b[39;49m\u001b[43m)\u001b[49m\u001b[38;5;241;43m/\u001b[39;49m\u001b[43mInteger\u001b[49m\u001b[43m(\u001b[49m\u001b[38;5;241;43m3\u001b[39;49m\u001b[43m)\u001b[49m\u001b[43m]\u001b[49m\u001b[43m)\u001b[49m\u001b[43m)\u001b[49m\n",
      "\u001b[0;31mTypeError\u001b[0m: int() argument must be a string, a bytes-like object or a real number, not 'sage.modules.vector_rational_dense.Vector_rational_dense'"
     ]
    }
   ],
   "source": []
  },
  {
   "cell_type": "code",
   "execution_count": null,
   "metadata": {
    "vscode": {
     "languageId": "python"
    }
   },
   "outputs": [],
   "source": []
  }
 ],
 "metadata": {
  "kernelspec": {
   "display_name": "SageMath 9.8",
   "language": "sage",
   "name": "SageMath-9.8"
  },
  "language_info": {
   "codemirror_mode": {
    "name": "ipython",
    "version": 3
   },
   "file_extension": ".py",
   "mimetype": "text/x-python",
   "name": "sage",
   "nbconvert_exporter": "python",
   "pygments_lexer": "ipython3",
   "version": "3.11.1"
  }
 },
 "nbformat": 4,
 "nbformat_minor": 2
}
